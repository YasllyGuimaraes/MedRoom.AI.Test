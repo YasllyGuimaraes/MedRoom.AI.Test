{
 "cells": [
  {
   "attachments": {},
   "cell_type": "markdown",
   "metadata": {},
   "source": [
    "# Text Similarity - Natural Language Processing"
   ]
  },
  {
   "attachments": {},
   "cell_type": "markdown",
   "metadata": {},
   "source": [
    "## Introduction"
   ]
  },
  {
   "attachments": {},
   "cell_type": "markdown",
   "metadata": {},
   "source": [
    "Natural Language Processing (NLP) is an area of artificial intelligence that seeks to enable computers to understand, interpret, and produce human language efficiently."
   ]
  },
  {
   "attachments": {},
   "cell_type": "markdown",
   "metadata": {},
   "source": [
    "## Objective"
   ]
  },
  {
   "attachments": {},
   "cell_type": "markdown",
   "metadata": {},
   "source": [
    "The objective of this project is to return a similarity score between sentences. For this project, the containment measure will be used, which is a measure of similarity between two texts."
   ]
  },
  {
   "attachments": {},
   "cell_type": "markdown",
   "metadata": {},
   "source": [
    "## Data"
   ]
  },
  {
   "attachments": {},
   "cell_type": "markdown",
   "metadata": {},
   "source": [
    "Given the following original sentence:\n",
    "\n",
    "> Olhando para a escala na parede, qual valor indicaria melhor a sua dor hoje?\n",
    "\n",
    "We will compare the following 3 sentences, returning the similarity score between the original and the comparative.\n",
    "\n",
    "|Original Sentence |Comparative Sentences | Similarity Score |\n",
    "|--|--|--|\n",
    "|Olhando para a escala na parede, qual valor indicaria melhor a sua dor hoje?|De acordo com a escala de dor ali na parede, qual valor você acha que mais representa a sua dor?|???\n",
    "||De 0 a 10, qual o nível de intensidade da sua dor atualmente?|???\n",
    "||Qual a intensidade da sua dor?|???\n"
   ]
  },
  {
   "attachments": {},
   "cell_type": "markdown",
   "metadata": {},
   "source": [
    "## Getting started"
   ]
  },
  {
   "attachments": {},
   "cell_type": "markdown",
   "metadata": {},
   "source": [
    "#### Importing Libraries"
   ]
  },
  {
   "attachments": {},
   "cell_type": "markdown",
   "metadata": {},
   "source": [
    "To start implementing the code, we will import some libraries that will be necessary for the project creation."
   ]
  },
  {
   "cell_type": "code",
   "execution_count": 22,
   "metadata": {},
   "outputs": [],
   "source": [
    "import numpy as np\n",
    "import sklearn\n",
    "import pandas as pd"
   ]
  },
  {
   "attachments": {},
   "cell_type": "markdown",
   "metadata": {},
   "source": [
    "#### Declaring Variables"
   ]
  },
  {
   "attachments": {},
   "cell_type": "markdown",
   "metadata": {},
   "source": [
    "We will declare some variables to store the original text and the comparative texts."
   ]
  },
  {
   "cell_type": "code",
   "execution_count": 23,
   "metadata": {},
   "outputs": [],
   "source": [
    "default_text = \"Olhando para a escala na parede, qual valor indicaria melhor a sua dor hoje?\"\n",
    "text_1 = \"De acordo com a escala de dor ali na parede, qual valor você acha que mais representa a sua dor?\"\n",
    "text_2 = \"De 0 a 10, qual o nível de intensidade da sua dor atualmente?\"\n",
    "text_3 = \"Qual a intensidade da sua dor?\""
   ]
  },
  {
   "attachments": {},
   "cell_type": "markdown",
   "metadata": {},
   "source": [
    "#### Creating Vocabulary"
   ]
  },
  {
   "attachments": {},
   "cell_type": "markdown",
   "metadata": {},
   "source": [
    "Now we will use Count Vectorizer to transform the words of the sentences that will be compared into a numeric format, to be used later in the comparisons. Remember that we will use unigrams, words with 2 or more letters will be used, and we will ignore single-letter words, as it is very common in text analysis."
   ]
  },
  {
   "cell_type": "code",
   "execution_count": 24,
   "metadata": {},
   "outputs": [
    {
     "name": "stdout",
     "output_type": "stream",
     "text": [
      "{'de': 4, 'acordo': 1, 'com': 3, 'escala': 6, 'dor': 5, 'ali': 2, 'na': 11, 'parede': 14, 'qual': 15, 'valor': 19, 'você': 20, 'acha': 0, 'que': 16, 'mais': 9, 'representa': 17, 'sua': 18, 'olhando': 12, 'para': 13, 'indicaria': 8, 'melhor': 10, 'hoje': 7}\n",
      "{'de': 3, '10': 0, 'qual': 15, 'nível': 11, 'intensidade': 8, 'da': 2, 'sua': 16, 'dor': 4, 'atualmente': 1, 'olhando': 12, 'para': 13, 'escala': 5, 'na': 10, 'parede': 14, 'valor': 17, 'indicaria': 7, 'melhor': 9, 'hoje': 6}\n",
      "{'qual': 11, 'intensidade': 5, 'da': 0, 'sua': 12, 'dor': 1, 'olhando': 8, 'para': 9, 'escala': 2, 'na': 7, 'parede': 10, 'valor': 13, 'indicaria': 4, 'melhor': 6, 'hoje': 3}\n"
     ]
    }
   ],
   "source": [
    "from sklearn.feature_extraction.text import CountVectorizer\n",
    "\n",
    "words = CountVectorizer(analyzer='word', ngram_range=(0,1))\n",
    "\n",
    "texts = [text_1, text_2, text_3]\n",
    "\n",
    "for text in texts:\n",
    "    vocabulary = words.fit([text, default_text]).vocabulary_\n",
    "    print(vocabulary)"
   ]
  },
  {
   "attachments": {},
   "cell_type": "markdown",
   "metadata": {},
   "source": [
    "#### Transforming Vocabularies into Arrays"
   ]
  },
  {
   "attachments": {},
   "cell_type": "markdown",
   "metadata": {},
   "source": [
    "Transforming the vocabularies into arrays for a comparison of each comparative sentence with the original sentence"
   ]
  },
  {
   "cell_type": "code",
   "execution_count": 25,
   "metadata": {},
   "outputs": [
    {
     "name": "stdout",
     "output_type": "stream",
     "text": [
      "[[1 1 1 1 2 2 1 0 0 1 0 1 0 0 1 1 1 1 1 1 1]\n",
      " [0 0 0 0 0 1 1 1 1 0 1 1 1 1 1 1 0 0 1 1 0]]\n",
      "[[1 1 1 2 1 0 0 0 1 0 0 1 0 0 0 1 1 0]\n",
      " [0 0 0 0 1 1 1 1 0 1 1 0 1 1 1 1 1 1]]\n",
      "[[1 1 0 0 0 1 0 0 0 0 0 1 1 0]\n",
      " [0 1 1 1 1 0 1 1 1 1 1 1 1 1]]\n"
     ]
    }
   ],
   "source": [
    "for text in texts:\n",
    "    array = words.fit_transform([text, default_text]).toarray()\n",
    "    print(array)"
   ]
  },
  {
   "attachments": {},
   "cell_type": "markdown",
   "metadata": {},
   "source": [
    "#### Creating a similarity measure"
   ]
  },
  {
   "attachments": {},
   "cell_type": "markdown",
   "metadata": {},
   "source": [
    "Now let's calculate the intersection between the comparative texts and the original text."
   ]
  },
  {
   "cell_type": "code",
   "execution_count": 26,
   "metadata": {},
   "outputs": [
    {
     "name": "stdout",
     "output_type": "stream",
     "text": [
      "7\n",
      "3\n",
      "3\n"
     ]
    }
   ],
   "source": [
    "for text in texts:\n",
    "    array = words.fit_transform([text, default_text]).toarray()\n",
    "    intersections = np.sum(np.amin(array, axis=0))\n",
    "    print(intersections)"
   ]
  },
  {
   "attachments": {},
   "cell_type": "markdown",
   "metadata": {},
   "source": [
    "#### Similarity Score"
   ]
  },
  {
   "attachments": {},
   "cell_type": "markdown",
   "metadata": {},
   "source": [
    "Given the previous comparison and calculating the similarity score, we obtain the following result."
   ]
  },
  {
   "cell_type": "code",
   "execution_count": 27,
   "metadata": {},
   "outputs": [
    {
     "name": "stdout",
     "output_type": "stream",
     "text": [
      "0.5833333333333334\n",
      "0.25\n",
      "0.25\n"
     ]
    }
   ],
   "source": [
    "divider = words.fit_transform([default_text]).toarray()\n",
    "count_default = np.sum(divider)\n",
    "\n",
    "for text in texts:\n",
    "    array = words.fit_transform([text, default_text]).toarray()\n",
    "    intersections = np.sum(np.amin(array, axis=0))\n",
    "    score = intersections/count_default\n",
    "    print(score)"
   ]
  },
  {
   "attachments": {},
   "cell_type": "markdown",
   "metadata": {},
   "source": [
    "#### Creating the dataframe"
   ]
  },
  {
   "attachments": {},
   "cell_type": "markdown",
   "metadata": {},
   "source": [
    "For a better visualization, we will create a dataframe with the obtained results."
   ]
  },
  {
   "cell_type": "code",
   "execution_count": 28,
   "metadata": {},
   "outputs": [
    {
     "name": "stdout",
     "output_type": "stream",
     "text": [
      "                                                           Original sentence                                                                            Comparative sentences  Similarity score\n",
      "Olhando para a escala na parede, qual valor indicaria melhor a sua dor hoje? De acordo com a escala de dor ali na parede, qual valor você acha que mais representa a sua dor?          0.583333\n",
      "Olhando para a escala na parede, qual valor indicaria melhor a sua dor hoje?                                    De 0 a 10, qual o nível de intensidade da sua dor atualmente?          0.250000\n",
      "Olhando para a escala na parede, qual valor indicaria melhor a sua dor hoje?                                                                   Qual a intensidade da sua dor?          0.250000\n"
     ]
    }
   ],
   "source": [
    "result_list = []\n",
    "\n",
    "for text in texts:\n",
    "    array = words.fit_transform([text, default_text]).toarray()\n",
    "    intersections = np.sum(np.amin(array, axis=0))\n",
    "    divider = words.fit_transform([default_text]).toarray()\n",
    "    count_default = np.sum(divider)\n",
    "    score = intersections/count_default\n",
    "    result_dict = {'Original sentence': default_text, 'Comparative sentences': text, 'Similarity score': score}\n",
    "    result_list.append(result_dict)\n",
    "\n",
    "df = pd.DataFrame(result_list)\n",
    "\n",
    "pd.set_option('display.max_rows', None)\n",
    "\n",
    "df_output = pd.DataFrame(df, columns=['Original sentence', 'Comparative sentences', 'Similarity score'])\n",
    "output_str = df_output.to_string(index=False)\n",
    "\n",
    "print(output_str)\n"
   ]
  },
  {
   "attachments": {},
   "cell_type": "markdown",
   "metadata": {},
   "source": [
    "#### Conclusion"
   ]
  },
  {
   "attachments": {},
   "cell_type": "markdown",
   "metadata": {},
   "source": [
    "Using the containment measure to calculate the similarity between two texts, we obtained the following result:\n",
    "\n",
    "Original Phrase<br />\n",
    "• Looking at the pain scale on the wall, what value would best indicate your pain today?<br />\n",
    "\n",
    "Comparative Phrases<br />\n",
    "• According to the pain scale on the wall, what value do you think best represents your pain?<br />\n",
    "• On a scale of 0 to 10, what is the intensity level of your current pain?<br />\n",
    "• What is the intensity of your pain?<br />\n",
    "\n",
    "Similarity Scores<br />\n",
    "• The first sentence obtained a score of 58.33%.<br />\n",
    "• The second sentence obtained a score of 25%.<br />\n",
    "• The third sentence obtained a score of 25%.<br />\n",
    "\n",
    "Just as in this study, other models and measures could also be used, which would leave open to new improvements and consequently new results."
   ]
  }
 ],
 "metadata": {
  "kernelspec": {
   "display_name": "lead-mentoring",
   "language": "python",
   "name": "python3"
  },
  "language_info": {
   "codemirror_mode": {
    "name": "ipython",
    "version": 3
   },
   "file_extension": ".py",
   "mimetype": "text/x-python",
   "name": "python",
   "nbconvert_exporter": "python",
   "pygments_lexer": "ipython3",
   "version": "3.9.12"
  },
  "orig_nbformat": 4
 },
 "nbformat": 4,
 "nbformat_minor": 2
}
