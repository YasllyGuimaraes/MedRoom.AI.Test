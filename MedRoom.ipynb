{
 "cells": [
  {
   "attachments": {},
   "cell_type": "markdown",
   "metadata": {},
   "source": [
    "# **Text Similarity - Natural Language Processing**"
   ]
  },
  {
   "attachments": {},
   "cell_type": "markdown",
   "metadata": {},
   "source": [
    "## **Introduction**"
   ]
  },
  {
   "attachments": {},
   "cell_type": "markdown",
   "metadata": {},
   "source": [
    "Natural Language Processing (NLP) is an area of artificial intelligence that seeks to enable computers to understand, interpret, and produce human language efficiently."
   ]
  },
  {
   "attachments": {},
   "cell_type": "markdown",
   "metadata": {},
   "source": [
    "## **Objective**"
   ]
  },
  {
   "attachments": {},
   "cell_type": "markdown",
   "metadata": {},
   "source": [
    "The objective of this project is to return a similarity score between sentences. For this project, the containment measure will be used, which is a measure of similarity between two texts."
   ]
  },
  {
   "attachments": {},
   "cell_type": "markdown",
   "metadata": {},
   "source": [
    "## **Data**"
   ]
  },
  {
   "attachments": {},
   "cell_type": "markdown",
   "metadata": {},
   "source": [
    "Given the following original sentence:\n",
    "\n",
    "> Olhando para a escala na parede, qual valor indicaria melhor a sua dor hoje?\n",
    "\n",
    "We will compare the following 3 sentences, returning the similarity score between the original and the comparative.\n",
    "\n",
    "|Original Sentence |Comparative Sentences | Similarity Score |\n",
    "|--|--|--|\n",
    "|Olhando para a escala na parede, qual valor indicaria melhor a sua dor hoje?|De acordo com a escala de dor ali na parede, qual valor você acha que mais representa a sua dor?|???\n",
    "||De 0 a 10, qual o nível de intensidade da sua dor atualmente?|???\n",
    "||Qual a intensidade da sua dor?|???\n"
   ]
  },
  {
   "attachments": {},
   "cell_type": "markdown",
   "metadata": {},
   "source": [
    "## **Getting started**\n"
   ]
  },
  {
   "attachments": {},
   "cell_type": "markdown",
   "metadata": {},
   "source": [
    "#### **Importing Libraries**\n",
    "---"
   ]
  },
  {
   "attachments": {},
   "cell_type": "markdown",
   "metadata": {},
   "source": [
    "To start implementing the code, we will import some libraries that will be necessary for the project creation."
   ]
  },
  {
   "cell_type": "code",
   "execution_count": 1,
   "metadata": {},
   "outputs": [],
   "source": [
    "import numpy as np\n",
    "import sklearn\n",
    "import pandas as pd"
   ]
  },
  {
   "attachments": {},
   "cell_type": "markdown",
   "metadata": {},
   "source": [
    "#### **Declaring Variables**\n",
    "---"
   ]
  },
  {
   "attachments": {},
   "cell_type": "markdown",
   "metadata": {},
   "source": [
    "We will declare some variables to store the original text and the comparative texts."
   ]
  },
  {
   "cell_type": "code",
   "execution_count": 2,
   "metadata": {},
   "outputs": [],
   "source": [
    "default_text = \"Olhando para a escala na parede, qual valor indicaria melhor a sua dor hoje?\"\n",
    "text_1 = \"De acordo com a escala de dor ali na parede, qual valor você acha que mais representa a sua dor?\"\n",
    "text_2 = \"De 0 a 10, qual o nível de intensidade da sua dor atualmente?\"\n",
    "text_3 = \"Qual a intensidade da sua dor?\""
   ]
  },
  {
   "attachments": {},
   "cell_type": "markdown",
   "metadata": {},
   "source": [
    "#### **Creating Vocabulary**\n",
    "---"
   ]
  },
  {
   "attachments": {},
   "cell_type": "markdown",
   "metadata": {},
   "source": [
    "Now we will use the Count Vectorizer to transform the words of the sentences that will be compared into a numeric format, to be used later in the comparisons. We will use unigrams and implement regex to consider unique words in this comparison."
   ]
  },
  {
   "cell_type": "code",
   "execution_count": 3,
   "metadata": {},
   "outputs": [
    {
     "name": "stdout",
     "output_type": "stream",
     "text": [
      "{'de': 5, 'acordo': 2, 'com': 4, 'a': 0, 'escala': 7, 'dor': 6, 'ali': 3, 'na': 12, 'parede': 15, 'qual': 16, 'valor': 20, 'você': 21, 'acha': 1, 'que': 17, 'mais': 10, 'representa': 18, 'sua': 19, 'olhando': 13, 'para': 14, 'indicaria': 9, 'melhor': 11, 'hoje': 8}\n",
      "{'de': 5, '0': 0, 'a': 2, '10': 1, 'qual': 18, 'o': 14, 'nível': 13, 'intensidade': 10, 'da': 4, 'sua': 19, 'dor': 6, 'atualmente': 3, 'olhando': 15, 'para': 16, 'escala': 7, 'na': 12, 'parede': 17, 'valor': 20, 'indicaria': 9, 'melhor': 11, 'hoje': 8}\n",
      "{'qual': 12, 'a': 0, 'intensidade': 6, 'da': 1, 'sua': 13, 'dor': 2, 'olhando': 9, 'para': 10, 'escala': 3, 'na': 8, 'parede': 11, 'valor': 14, 'indicaria': 5, 'melhor': 7, 'hoje': 4}\n"
     ]
    }
   ],
   "source": [
    "from sklearn.feature_extraction.text import CountVectorizer\n",
    "\n",
    "words = CountVectorizer(analyzer='word', ngram_range=(0,1), token_pattern=r'\\b\\w+\\b')\n",
    "\n",
    "texts = [text_1, text_2, text_3]\n",
    "\n",
    "for text in texts:\n",
    "    vocabulary = words.fit([text, default_text]).vocabulary_\n",
    "    print(vocabulary)"
   ]
  },
  {
   "attachments": {},
   "cell_type": "markdown",
   "metadata": {},
   "source": [
    "#### **Transforming Vocabularies into Arrays**\n",
    "---"
   ]
  },
  {
   "attachments": {},
   "cell_type": "markdown",
   "metadata": {},
   "source": [
    "Transforming the vocabularies into arrays for a comparison of each comparative sentence with the original sentence"
   ]
  },
  {
   "cell_type": "code",
   "execution_count": 4,
   "metadata": {},
   "outputs": [
    {
     "name": "stdout",
     "output_type": "stream",
     "text": [
      "[[2 1 1 1 1 2 2 1 0 0 1 0 1 0 0 1 1 1 1 1 1 1]\n",
      " [2 0 0 0 0 0 1 1 1 1 0 1 1 1 1 1 1 0 0 1 1 0]]\n",
      "[[1 1 1 1 1 2 1 0 0 0 1 0 0 1 1 0 0 0 1 1 0]\n",
      " [0 0 2 0 0 0 1 1 1 1 0 1 1 0 0 1 1 1 1 1 1]]\n",
      "[[1 1 1 0 0 0 1 0 0 0 0 0 1 1 0]\n",
      " [2 0 1 1 1 1 0 1 1 1 1 1 1 1 1]]\n"
     ]
    }
   ],
   "source": [
    "for text in texts:\n",
    "    array = words.fit_transform([text, default_text]).toarray()\n",
    "    print(array)"
   ]
  },
  {
   "attachments": {},
   "cell_type": "markdown",
   "metadata": {},
   "source": [
    "#### **Creating a similarity measure** \n",
    "---"
   ]
  },
  {
   "attachments": {},
   "cell_type": "markdown",
   "metadata": {},
   "source": [
    "Now let's calculate the intersection between the comparative texts and the original text."
   ]
  },
  {
   "cell_type": "code",
   "execution_count": 5,
   "metadata": {},
   "outputs": [
    {
     "name": "stdout",
     "output_type": "stream",
     "text": [
      "9\n",
      "4\n",
      "4\n"
     ]
    }
   ],
   "source": [
    "for text in texts:\n",
    "    array = words.fit_transform([text, default_text]).toarray()\n",
    "    intersections = np.sum(np.amin(array, axis=0))\n",
    "    print(intersections)"
   ]
  },
  {
   "attachments": {},
   "cell_type": "markdown",
   "metadata": {},
   "source": [
    "#### **Similarity Score**\n",
    "---"
   ]
  },
  {
   "attachments": {},
   "cell_type": "markdown",
   "metadata": {},
   "source": [
    "Given the previous comparison and calculating the similarity score, we obtain the following result."
   ]
  },
  {
   "cell_type": "code",
   "execution_count": 6,
   "metadata": {},
   "outputs": [
    {
     "name": "stdout",
     "output_type": "stream",
     "text": [
      "0.6428571428571429\n",
      "0.2857142857142857\n",
      "0.2857142857142857\n"
     ]
    }
   ],
   "source": [
    "divider = words.fit_transform([default_text]).toarray()\n",
    "count_default = np.sum(divider)\n",
    "\n",
    "for text in texts:\n",
    "    array = words.fit_transform([text, default_text]).toarray()\n",
    "    intersections = np.sum(np.amin(array, axis=0))\n",
    "    score = intersections/count_default\n",
    "    print(score)"
   ]
  },
  {
   "attachments": {},
   "cell_type": "markdown",
   "metadata": {},
   "source": [
    "#### **Creating the dataframe**\n",
    "---"
   ]
  },
  {
   "attachments": {},
   "cell_type": "markdown",
   "metadata": {},
   "source": [
    "For a better visualization, we will create a dataframe with the obtained results."
   ]
  },
  {
   "cell_type": "code",
   "execution_count": 7,
   "metadata": {},
   "outputs": [
    {
     "data": {
      "text/html": [
       "<div>\n",
       "<style scoped>\n",
       "    .dataframe tbody tr th:only-of-type {\n",
       "        vertical-align: middle;\n",
       "    }\n",
       "\n",
       "    .dataframe tbody tr th {\n",
       "        vertical-align: top;\n",
       "    }\n",
       "\n",
       "    .dataframe thead th {\n",
       "        text-align: right;\n",
       "    }\n",
       "</style>\n",
       "<table border=\"1\" class=\"dataframe\">\n",
       "  <thead>\n",
       "    <tr style=\"text-align: right;\">\n",
       "      <th></th>\n",
       "      <th>Original sentence</th>\n",
       "      <th>Comparative sentences</th>\n",
       "      <th>Similarity score</th>\n",
       "    </tr>\n",
       "  </thead>\n",
       "  <tbody>\n",
       "    <tr>\n",
       "      <th>0</th>\n",
       "      <td>Olhando para a escala na parede, qual valor in...</td>\n",
       "      <td>De acordo com a escala de dor ali na parede, q...</td>\n",
       "      <td>0.642857</td>\n",
       "    </tr>\n",
       "    <tr>\n",
       "      <th>1</th>\n",
       "      <td>Olhando para a escala na parede, qual valor in...</td>\n",
       "      <td>De 0 a 10, qual o nível de intensidade da sua ...</td>\n",
       "      <td>0.285714</td>\n",
       "    </tr>\n",
       "    <tr>\n",
       "      <th>2</th>\n",
       "      <td>Olhando para a escala na parede, qual valor in...</td>\n",
       "      <td>Qual a intensidade da sua dor?</td>\n",
       "      <td>0.285714</td>\n",
       "    </tr>\n",
       "  </tbody>\n",
       "</table>\n",
       "</div>"
      ],
      "text/plain": [
       "                                   Original sentence                              Comparative sentences  Similarity score\n",
       "0  Olhando para a escala na parede, qual valor in...  De acordo com a escala de dor ali na parede, q...          0.642857\n",
       "1  Olhando para a escala na parede, qual valor in...  De 0 a 10, qual o nível de intensidade da sua ...          0.285714\n",
       "2  Olhando para a escala na parede, qual valor in...                     Qual a intensidade da sua dor?          0.285714"
      ]
     },
     "execution_count": 7,
     "metadata": {},
     "output_type": "execute_result"
    }
   ],
   "source": [
    "result_list = []\n",
    "\n",
    "for text in texts:\n",
    "    array = words.fit_transform([text, default_text]).toarray()\n",
    "    intersections = np.sum(np.amin(array, axis=0))\n",
    "    divider = words.fit_transform([default_text]).toarray()\n",
    "    count_default = np.sum(divider)\n",
    "    score = intersections/count_default\n",
    "    result_dict = {'Original sentence': default_text, 'Comparative sentences': text, 'Similarity score': score}\n",
    "    result_list.append(result_dict)\n",
    "\n",
    "df = pd.DataFrame(result_list)\n",
    "\n",
    "pd.set_option('display.width', 1000)\n",
    "pd.set_option('display.max_rows', None)\n",
    "\n",
    "df_output = pd.DataFrame(df, columns=['Original sentence', 'Comparative sentences', 'Similarity score'])\n",
    "\n",
    "df_output.head()"
   ]
  },
  {
   "attachments": {},
   "cell_type": "markdown",
   "metadata": {},
   "source": [
    "#### **Conclusion**\n",
    "---"
   ]
  },
  {
   "attachments": {},
   "cell_type": "markdown",
   "metadata": {},
   "source": [
    "Using the containment measure to calculate the similarity between texts, we obtained the following result:\n",
    "\n",
    "**Original Phrase**<br />\n",
    "• Looking at the pain scale on the wall, what value would best indicate your pain today?<br />\n",
    "\n",
    "**Comparative Phrases**<br />\n",
    "• According to the pain scale on the wall, what value do you think best represents your pain?<br />\n",
    "• On a scale of 0 to 10, what is the intensity level of your current pain?<br />\n",
    "• What is the intensity of your pain?<br />\n",
    "\n",
    "**Similarity Scores**<br />\n",
    "• The first sentence obtained a score of 64.28%.<br />\n",
    "• The second sentence obtained a score of 28.57%.<br />\n",
    "• The third sentence obtained a score of 28.57%.<br />\n",
    "\n",
    "Just as in this study, other models and measures could also be used, which would leave open to new improvements and consequently new results."
   ]
  },
  {
   "cell_type": "markdown",
   "metadata": {},
   "source": []
  }
 ],
 "metadata": {
  "kernelspec": {
   "display_name": "lead-mentoring",
   "language": "python",
   "name": "python3"
  },
  "language_info": {
   "codemirror_mode": {
    "name": "ipython",
    "version": 3
   },
   "file_extension": ".py",
   "mimetype": "text/x-python",
   "name": "python",
   "nbconvert_exporter": "python",
   "pygments_lexer": "ipython3",
   "version": "3.9.12"
  },
  "orig_nbformat": 4
 },
 "nbformat": 4,
 "nbformat_minor": 2
}
